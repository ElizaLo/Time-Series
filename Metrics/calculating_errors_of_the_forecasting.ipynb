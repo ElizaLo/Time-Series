{
 "cells": [
  {
   "attachments": {},
   "cell_type": "markdown",
   "metadata": {
    "tags": []
   },
   "source": [
    "# Calculating errors of the Forecasting - Comparing Actual and Predicted Value\n",
    "\n",
    "**Errors:**\n",
    "\n",
    "- Error and Mean Error\n",
    "- Absolute Error and Mean Absolute Error (MAE)\n",
    "- Squared Error and Mean Squared Error (MSE)\n",
    "- Squared Error and Root Mean Squared Error (RMSE)\n",
    "- Percentage Error\n",
    "- Mean Absolute Percentage Error (MAPE)\n",
    "- Symmetric Mean Absolute Percentage Error (SMAPE) \n",
    "\n",
    "**Measures:**\n",
    "\n",
    "- Percentage of Correct Direction (PCD)\n",
    "- Theil's U statistic\n",
    "\n",
    "\n",
    "<mark>Scale error metrics to a 100% range</mark>\n",
    "\n",
    "- Mean Error (%)\n",
    "- Mean Absolute Error (MAE) (%)\n",
    "- Mean Squared Error (MSE) (%)\n",
    "- Root Mean Squared Error (RMSE) (%)\n",
    "- Mean Absolute Percentage Error (MAPE) (%)"
   ]
  },
  {
   "attachments": {},
   "cell_type": "markdown",
   "metadata": {
    "tags": []
   },
   "source": [
    "### Install packages"
   ]
  },
  {
   "cell_type": "code",
   "execution_count": null,
   "metadata": {
    "tags": []
   },
   "outputs": [],
   "source": [
    "!pip install awswrangler"
   ]
  },
  {
   "attachments": {},
   "cell_type": "markdown",
   "metadata": {
    "tags": []
   },
   "source": [
    "### Import packages"
   ]
  },
  {
   "cell_type": "code",
   "execution_count": 12,
   "metadata": {
    "tags": []
   },
   "outputs": [],
   "source": [
    "import boto3\n",
    "import awswrangler as wr\n",
    "import pandas as pd\n",
    "import numpy as np\n",
    "import matplotlib.pyplot as plt\n",
    "from sklearn.metrics import mean_absolute_error, mean_squared_error\n",
    "from math import sqrt\n",
    "\n",
    "import warnings\n",
    "warnings.filterwarnings(\"ignore\")"
   ]
  },
  {
   "attachments": {},
   "cell_type": "markdown",
   "metadata": {
    "jp-MarkdownHeadingCollapsed": true,
    "tags": []
   },
   "source": [
    "## Load data and pre-processing"
   ]
  },
  {
   "cell_type": "code",
   "execution_count": null,
   "metadata": {
    "tags": []
   },
   "outputs": [],
   "source": [
    "predictions = 'predictions.xlsx'\n",
    "predictions_df = pd.DataFrame(pd.read_excel(predictions))\n",
    "\n",
    "print(\"Shape:\", predictions_df.shape)\n",
    "predictions_df.head(3)"
   ]
  },
  {
   "cell_type": "code",
   "execution_count": null,
   "metadata": {
    "tags": []
   },
   "outputs": [],
   "source": [
    "predictions_subset = predictions_df[['ID', 'Predicted']]\n",
    "\n",
    "print(\"Shape:\", predictions_subset.shape)\n",
    "predictions_subset.head(3)"
   ]
  },
  {
   "cell_type": "code",
   "execution_count": null,
   "metadata": {
    "tags": []
   },
   "outputs": [],
   "source": [
    "actual_value = 'actual_values.xlsx'\n",
    "actual_value_df = pd.DataFrame(pd.read_excel(actual_value))\n",
    "\n",
    "print(\"Shape:\", actual_value_df.shape)\n",
    "actual_value_df.head(3)"
   ]
  },
  {
   "cell_type": "code",
   "execution_count": null,
   "metadata": {
    "tags": []
   },
   "outputs": [],
   "source": [
    "actual_value_subset = actual_value_df[['Name', 'id']]\n",
    "\n",
    "actual_value_subset = actual_value_subset.rename(columns={\"id\": \"ID\"})\n",
    "columns_titles = ['ID', 'Name']\n",
    "actual_value_subset = actual_value_subset.reindex(columns=columns_titles)\n",
    "print(\"Shape:\", actual_value_subset.shape)\n",
    "actual_value_subset.head(3)"
   ]
  },
  {
   "cell_type": "code",
   "execution_count": null,
   "metadata": {
    "tags": []
   },
   "outputs": [],
   "source": [
    "predicted_actual_df = pd.merge(actual_value_subset, predictions_subset, on=\"ID\")\n",
    "\n",
    "print(\"Shape:\", predicted_actual_df.shape)\n",
    "predicted_actual_df.head(3)"
   ]
  },
  {
   "cell_type": "code",
   "execution_count": null,
   "metadata": {
    "tags": []
   },
   "outputs": [],
   "source": [
    "wr.s3.to_csv(\n",
    "    df=predicted_actual_df,\n",
    "    path='s3:/datasets/time_series/predicted_actual.csv'\n",
    ")"
   ]
  },
  {
   "attachments": {},
   "cell_type": "markdown",
   "metadata": {
    "tags": []
   },
   "source": [
    "## Calculating Errors"
   ]
  },
  {
   "cell_type": "code",
   "execution_count": null,
   "metadata": {
    "tags": []
   },
   "outputs": [],
   "source": [
    "predicted_actual_df = wr.s3.read_csv('s3:/datasets/time_series/predicted_actual.csv')\n",
    "\n",
    "predicted_actual_df = predicted_actual_df.drop(columns=['Unnamed: 0'])\n",
    "print(\"Shape:\", predicted_actual_df.shape)\n",
    "predicted_actual_df.head(5)"
   ]
  },
  {
   "cell_type": "code",
   "execution_count": null,
   "metadata": {
    "tags": []
   },
   "outputs": [],
   "source": [
    "# Drop rows with missing values\n",
    "predicted_actual_df = predicted_actual_df.dropna()\n",
    "\n",
    "print(\"Shape:\", predicted_actual_df.shape)"
   ]
  },
  {
   "cell_type": "code",
   "execution_count": null,
   "metadata": {
    "tags": []
   },
   "outputs": [],
   "source": [
    "errors_df = predicted_actual_df.copy()\n",
    "\n",
    "print(\"Shape:\", errors_df.shape)\n",
    "errors_df.head(3)"
   ]
  },
  {
   "cell_type": "code",
   "execution_count": null,
   "metadata": {
    "tags": []
   },
   "outputs": [],
   "source": [
    "import numpy as np\n",
    "import pandas as pd\n",
    "import matplotlib.pyplot as plt\n",
    "\n",
    "\n",
    "# Calculate error metrics for each row\n",
    "\n",
    "# Calculate the error (residual) between actual and predicted values\n",
    "errors_df['Error'] = errors_df['Actual'] - errors_df['Predicted']\n",
    "errors_df['Absolute Error'] = np.abs(errors_df['Error'])\n",
    "errors_df['MAE'] = mean_absolute_error(errors_df['Actual'], errors_df['Predicted'])\n",
    "errors_df['Squared Error'] = errors_df['Error'] ** 2\n",
    "errors_df['Percentage Error'] = (errors_df['Error'] / errors_df['Actual']) * 100\n",
    "#errors_df['Error (%)'] = ((errors_df['Predicted'] - errors_df['Actual']) / errors_df['Actual']) * 100\n",
    "errors_df['MAPE'] = np.abs(errors_df['Percentage Error'])\n",
    "# Calculate symmetric mean absolute percentage error (SMAPE) for each row\n",
    "errors_df['SMAPE'] = (np.abs(errors_df['Actual'] - errors_df['Predicted']) / ((np.abs(errors_df['Actual']) + np.abs(errors_df['Predicted'])) / 2)) * 100\n",
    "\n",
    "# Calculate Percentage of Correct Direction (PCD) for each row\n",
    "errors_df['PCD'] = (errors_df['Actual'].diff() > 0) == (errors_df['Predicted'].diff() > 0)\n",
    "# Convert boolean values to 1 for True and 0 for False\n",
    "errors_df['PCD'] = errors_df['PCD'].astype(int)\n",
    "\n",
    "# Calculate Theil's U statistic for each row\n",
    "errors_df['U'] = np.sqrt(((errors_df['Predicted'] - errors_df['Actual']) ** 2).mean()) / np.sqrt(((errors_df['Actual'].diff()) ** 2).mean())\n",
    "\n",
    "\n",
    "# Calculate error metrics for the whole dataset\n",
    "mean_error = errors_df['Error'].mean()\n",
    "mae = errors_df['Absolute Error'].mean()\n",
    "mse = errors_df['Squared Error'].mean()\n",
    "rmse = np.sqrt(mse)\n",
    "mape = np.mean(np.abs(errors_df['Percentage Error']))\n",
    "overall_error = ((errors_df['Predicted'] - errors_df['Actual']).sum() / errors_df['Actual'].sum()) * 100\n",
    "# Calculate overall SMAPE for the whole dataset\n",
    "overall_smape = (np.abs(errors_df['Actual'] - errors_df['Predicted']).sum() / ((np.abs(errors_df['Actual']) + np.abs(errors_df['Predicted'])).sum() / 2)) * 100\n",
    "# Calculate PCD for the whole dataset\n",
    "overall_pcd = errors_df['PCD'].sum() / len(errors_df) * 100\n",
    "# Calculate Theil's U statistic for the whole dataset\n",
    "overall_u = np.sqrt(((errors_df['Predicted'] - errors_df['Actual']) ** 2).mean()) / np.sqrt(((errors_df['Actual'].diff()) ** 2).mean())\n",
    "\n",
    "\n",
    "print('Mean Error:', mean_error)\n",
    "print('Mean Absolute Error (MAE):', mae)\n",
    "print('Mean Squared Error (MSE):', mse)\n",
    "print('Root Mean Squared Error (RMSE):', rmse)\n",
    "print('Mean Absolute Percentage Error (MAPE):', mape)\n",
    "print('Overall SMAPE:', overall_smape)\n",
    "print('Overall Error (%):', overall_error)\n",
    "print('Overall PCD:', overall_pcd)\n",
    "print('Overall U:', overall_u) # Display Theil's U statistic for the whole dataset\n",
    "\n",
    "print('\\n\\n')\n",
    "\n",
    "\n",
    "# Scale error metrics to a 100% range\n",
    "mean_error_percent = (mean_error / errors_df['Actual'].mean()) * 100\n",
    "mae_percent = (mae / errors_df['Actual'].mean()) * 100\n",
    "mse_percent = (mse / errors_df['Actual'].mean() ** 2) * 100\n",
    "rmse_percent = (rmse / errors_df['Actual'].mean()) * 100\n",
    "mape_percent = mape\n",
    "\n",
    "# Print error metrics for the whole dataset\n",
    "print('Mean Error (%):', mean_error_percent)\n",
    "print('Mean Absolute Error (MAE) (%):', mae_percent)\n",
    "print('Mean Squared Error (MSE) (%):', mse_percent)\n",
    "print('Root Mean Squared Error (RMSE) (%):', rmse_percent)\n",
    "print('Mean Absolute Percentage Error (MAPE) (%):', mape_percent)"
   ]
  },
  {
   "attachments": {},
   "cell_type": "markdown",
   "metadata": {},
   "source": [
    "<mark>Calculate error metrics for the whole dataset</mark>\n",
    "\n",
    "- **Mean Error:** ``\n",
    "- **Mean Absolute Error (MAE):** ``\n",
    "- **Mean Squared Error (MSE):** ``\n",
    "- **Root Mean Squared Error (RMSE):** ``\n",
    "- **Mean Absolute Percentage Error (MAPE):** `inf`\n",
    "- **Overall SMAPE:** ``\n",
    "- **Overall Error (%):** ``\n",
    "- **Overall PCD:** ``\n",
    "- **Overall U:** ``\n",
    "\n",
    "\n",
    "<mark>Scale error metrics to a 100% range</mark>\n",
    "\n",
    "- **Mean Error (%):** ``\n",
    "- **Mean Absolute Error (MAE) (%):** ``\n",
    "- **Mean Squared Error (MSE) (%):** ``\n",
    "- **Root Mean Squared Error (RMSE) (%):** ``\n",
    "- **Mean Absolute Percentage Error (MAPE) (%):** `inf`"
   ]
  },
  {
   "cell_type": "code",
   "execution_count": null,
   "metadata": {
    "tags": []
   },
   "outputs": [],
   "source": [
    "print(\"Shape:\", errors_df.shape)\n",
    "errors_df.head(5)"
   ]
  },
  {
   "attachments": {},
   "cell_type": "markdown",
   "metadata": {},
   "source": [
    "---"
   ]
  },
  {
   "cell_type": "code",
   "execution_count": 73,
   "metadata": {
    "tags": []
   },
   "outputs": [],
   "source": [
    "errors_df.to_excel(\"errors.xlsx\", sheet_name='Errors Metrics')  "
   ]
  },
  {
   "cell_type": "code",
   "execution_count": 63,
   "metadata": {
    "tags": []
   },
   "outputs": [
    {
     "data": {
      "text/plain": [
       "{'paths': ['s3://ds-dataset/Penetration_Prediction/Penetration_2022_Q-4/2022-Q4_errors.csv'],\n",
       " 'partitions_values': {}}"
      ]
     },
     "execution_count": 63,
     "metadata": {},
     "output_type": "execute_result"
    }
   ],
   "source": [
    "wr.s3.to_csv(\n",
    "    df=errors_df,\n",
    "    index = False\n",
    "    path='s3:/datasets/time_series/errors_metrics.csv'\n",
    ")"
   ]
  },
  {
   "cell_type": "code",
   "execution_count": null,
   "metadata": {
    "tags": []
   },
   "outputs": [],
   "source": [
    "errors_df = wr.s3.read_csv('s3:/datasets/time_series/errors_metrics.csv')\n",
    "\n",
    "print(\"Shape:\", errors_df.shape)\n",
    "errors_df.head(5)"
   ]
  },
  {
   "attachments": {},
   "cell_type": "markdown",
   "metadata": {
    "tags": []
   },
   "source": [
    "## Calculate Margin of Error"
   ]
  },
  {
   "cell_type": "code",
   "execution_count": null,
   "metadata": {
    "tags": []
   },
   "outputs": [],
   "source": [
    "import numpy as np\n",
    "import pandas as pd\n",
    "import scipy.stats as stats\n",
    "\n",
    "\n",
    "# Calculate the mean and standard deviation of the error\n",
    "error_mean = errors_df['Error'].mean()\n",
    "error_std = errors_df['Error'].std()\n",
    "\n",
    "# Define the desired confidence level (e.g., 95%)\n",
    "confidence_level = 0.95\n",
    "\n",
    "# Calculate the critical value based on the confidence level\n",
    "z_score = stats.norm.ppf((1 + confidence_level) / 2)\n",
    "\n",
    "# Calculate the margin of error\n",
    "margin_of_error = z_score * (error_std / np.sqrt(len(df)))\n",
    "\n",
    "print('Margin of Error:', margin_of_error)"
   ]
  },
  {
   "attachments": {},
   "cell_type": "markdown",
   "metadata": {
    "tags": []
   },
   "source": [
    "## Charts"
   ]
  },
  {
   "attachments": {},
   "cell_type": "markdown",
   "metadata": {
    "tags": []
   },
   "source": [
    "### Distribution of Mean Absolute Error (MAE)"
   ]
  },
  {
   "cell_type": "code",
   "execution_count": null,
   "metadata": {
    "tags": []
   },
   "outputs": [],
   "source": [
    "# Removing anything below actual of 1\n",
    "df = errors_df[errors_df['Actual'] >= 1.0]\n",
    "\n",
    "# Define the bins\n",
    "bins = np.arange(0, 101, 10)\n",
    "\n",
    "# Create a new column 'bins' in the dataframe to hold the bin each 'actual' value falls into\n",
    "df['bins'] = pd.cut(df['Actual'], bins, right=False)\n",
    "\n",
    "# Group by bins\n",
    "grouped = df.groupby('bins')\n",
    "\n",
    "# Calculate the Mean Absolute Error for each bin\n",
    "mae_values = grouped.apply(lambda g: mean_absolute_error(g['Actual'], \n",
    "                                                         g['Predicted']))\n",
    "\n",
    "# Plot histogram\n",
    "plt.bar(range(len(mae_values)), mae_values, color='lightblue')\n",
    "\n",
    "# Add MAE values on top of each bar\n",
    "for i, v in enumerate(mae_values):\n",
    "    plt.text(i, v, f'{v:.2f}', ha='center', va='bottom')\n",
    "\n",
    "# Calculate and add total MAE to title\n",
    "total_mae = mean_absolute_error(df['Actual'], df['Predicted'])\n",
    "plt.title(f'Total MAE: {total_mae:.2f}')\n",
    "\n",
    "# Set x-axis labels to bin ranges\n",
    "plt.xticks(range(len(mae_values)), [str(i) for i in grouped.groups.keys()], rotation=45)\n",
    "\n",
    "# Set x and y labels\n",
    "plt.xlabel('Actual Value Bins')\n",
    "plt.ylabel('Mean Absolute Error')\n",
    "\n",
    "# Show the plot\n",
    "plt.tight_layout()\n",
    "plt.show()"
   ]
  },
  {
   "cell_type": "code",
   "execution_count": null,
   "metadata": {
    "tags": []
   },
   "outputs": [],
   "source": [
    "# Count of data points in each bin\n",
    "counts = df['bins'].value_counts().sort_index()\n",
    "\n",
    "# Plot histogram\n",
    "plt.bar(range(len(counts)), counts, color='lightgreen')\n",
    "\n",
    "# Add count values on top of each bar\n",
    "for i, v in enumerate(counts):\n",
    "    plt.text(i, v, f'{v}', ha='center', va='bottom')\n",
    "\n",
    "# Set x-axis labels to bin ranges\n",
    "plt.xticks(range(len(counts)), [str(i) for i in counts.index], rotation=45)\n",
    "\n",
    "# Set x and y labels\n",
    "plt.xlabel('Actual Value Bins')\n",
    "plt.ylabel('Count of Data Points')\n",
    "\n",
    "# Show the plot\n",
    "plt.tight_layout()\n",
    "plt.show()\n"
   ]
  },
  {
   "attachments": {},
   "cell_type": "markdown",
   "metadata": {},
   "source": [
    "### Distribution of Mean Squared Error (MSE)"
   ]
  },
  {
   "cell_type": "code",
   "execution_count": null,
   "metadata": {},
   "outputs": [],
   "source": [
    "# Removing anything below actual of 1\n",
    "df = errors_df[errors_df['Actual'] >= 1.0] # 0\n",
    "\n",
    "# Define the bins\n",
    "bins = np.arange(0, 101, 10)\n",
    "\n",
    "# Create a new column 'bins' in the dataframe to hold the bin each 'actual' value falls into\n",
    "df['bins'] = pd.cut(df['Actual'], bins, right=False)\n",
    "\n",
    "# Group by bins\n",
    "grouped = df.groupby('bins')\n",
    "\n",
    "# Calculate the Mean Squared Error (MSE) for each bin\n",
    "mse_values = grouped.apply(lambda g: mean_squared_error(g['Actual'], \n",
    "                                                         g['Predicted']))\n",
    "\n",
    "# Plot histogram\n",
    "plt.bar(range(len(mse_values)), mse_values, color='lightblue')\n",
    "\n",
    "# Add MSE values on top of each bar\n",
    "for i, v in enumerate(mse_values):\n",
    "    plt.text(i, v, f'{v:.2f}', ha='center', va='bottom')\n",
    "\n",
    "# Calculate and add total MSE to title\n",
    "total_mse = mean_squared_error(df['Actual'], df['Predicted'])\n",
    "plt.title(f'Total MSE: {total_mse:.2f}')\n",
    "\n",
    "# Set x-axis labels to bin ranges\n",
    "plt.xticks(range(len(mse_values)), [str(i) for i in grouped.groups.keys()], rotation=45)\n",
    "\n",
    "# Set x and y labels\n",
    "plt.xlabel('Actual Value Bins')\n",
    "plt.ylabel('Mean Squared Error (MSE)')\n",
    "\n",
    "# Show the plot\n",
    "plt.tight_layout()\n",
    "plt.show()"
   ]
  },
  {
   "attachments": {},
   "cell_type": "markdown",
   "metadata": {},
   "source": [
    "### Distribution of Root Mean Squared Error (RMSE)"
   ]
  },
  {
   "cell_type": "code",
   "execution_count": null,
   "metadata": {
    "tags": []
   },
   "outputs": [],
   "source": [
    "# Removing anything below actual of 1\n",
    "df = errors_df[errors_df['Actual'] >= 0] # 0\n",
    "\n",
    "# Define the bins\n",
    "bins = np.arange(0, 101, 10)\n",
    "\n",
    "# Create a new column 'bins' in the dataframe to hold the bin each 'actual' value falls into\n",
    "df['bins'] = pd.cut(df['Actual'], bins, right=False)\n",
    "\n",
    "# Group by bins\n",
    "grouped = df.groupby('bins')\n",
    "\n",
    "# Calculate the Root Mean Squared Error (RMSE) for each bin\n",
    "rmse_values = grouped.apply(lambda g: sqrt(mean_squared_error(g['Actual'], \n",
    "                                                         g['Predicted'])))\n",
    "\n",
    "# Plot histogram\n",
    "plt.bar(range(len(rmse_values)), rmse_values, color='lightblue')\n",
    "\n",
    "# Add RMSE values on top of each bar\n",
    "for i, v in enumerate(rmse_values):\n",
    "    plt.text(i, v, f'{v:.2f}', ha='center', va='bottom')\n",
    "\n",
    "# Calculate and add total MSE to title\n",
    "total_rmse = sqrt(mean_squared_error(df['Actual'], df['Predicted']))\n",
    "plt.title(f'Total RMSE: {total_rmse:.2f}')\n",
    "\n",
    "# Set x-axis labels to bin ranges\n",
    "plt.xticks(range(len(rmse_values)), [str(i) for i in grouped.groups.keys()], rotation=45)\n",
    "\n",
    "# Set x and y labels\n",
    "plt.xlabel('Actual Value Bins')\n",
    "plt.ylabel('Root Mean Squared Error (RMSE)')\n",
    "\n",
    "# Show the plot\n",
    "plt.tight_layout()\n",
    "plt.show()"
   ]
  }
 ],
 "metadata": {
  "availableInstances": [
   {
    "_defaultOrder": 0,
    "_isFastLaunch": true,
    "category": "General purpose",
    "gpuNum": 0,
    "hideHardwareSpecs": false,
    "memoryGiB": 4,
    "name": "ml.t3.medium",
    "vcpuNum": 2
   },
   {
    "_defaultOrder": 1,
    "_isFastLaunch": false,
    "category": "General purpose",
    "gpuNum": 0,
    "hideHardwareSpecs": false,
    "memoryGiB": 8,
    "name": "ml.t3.large",
    "vcpuNum": 2
   },
   {
    "_defaultOrder": 2,
    "_isFastLaunch": false,
    "category": "General purpose",
    "gpuNum": 0,
    "hideHardwareSpecs": false,
    "memoryGiB": 16,
    "name": "ml.t3.xlarge",
    "vcpuNum": 4
   },
   {
    "_defaultOrder": 3,
    "_isFastLaunch": false,
    "category": "General purpose",
    "gpuNum": 0,
    "hideHardwareSpecs": false,
    "memoryGiB": 32,
    "name": "ml.t3.2xlarge",
    "vcpuNum": 8
   },
   {
    "_defaultOrder": 4,
    "_isFastLaunch": true,
    "category": "General purpose",
    "gpuNum": 0,
    "hideHardwareSpecs": false,
    "memoryGiB": 8,
    "name": "ml.m5.large",
    "vcpuNum": 2
   },
   {
    "_defaultOrder": 5,
    "_isFastLaunch": false,
    "category": "General purpose",
    "gpuNum": 0,
    "hideHardwareSpecs": false,
    "memoryGiB": 16,
    "name": "ml.m5.xlarge",
    "vcpuNum": 4
   },
   {
    "_defaultOrder": 6,
    "_isFastLaunch": false,
    "category": "General purpose",
    "gpuNum": 0,
    "hideHardwareSpecs": false,
    "memoryGiB": 32,
    "name": "ml.m5.2xlarge",
    "vcpuNum": 8
   },
   {
    "_defaultOrder": 7,
    "_isFastLaunch": false,
    "category": "General purpose",
    "gpuNum": 0,
    "hideHardwareSpecs": false,
    "memoryGiB": 64,
    "name": "ml.m5.4xlarge",
    "vcpuNum": 16
   },
   {
    "_defaultOrder": 8,
    "_isFastLaunch": false,
    "category": "General purpose",
    "gpuNum": 0,
    "hideHardwareSpecs": false,
    "memoryGiB": 128,
    "name": "ml.m5.8xlarge",
    "vcpuNum": 32
   },
   {
    "_defaultOrder": 9,
    "_isFastLaunch": false,
    "category": "General purpose",
    "gpuNum": 0,
    "hideHardwareSpecs": false,
    "memoryGiB": 192,
    "name": "ml.m5.12xlarge",
    "vcpuNum": 48
   },
   {
    "_defaultOrder": 10,
    "_isFastLaunch": false,
    "category": "General purpose",
    "gpuNum": 0,
    "hideHardwareSpecs": false,
    "memoryGiB": 256,
    "name": "ml.m5.16xlarge",
    "vcpuNum": 64
   },
   {
    "_defaultOrder": 11,
    "_isFastLaunch": false,
    "category": "General purpose",
    "gpuNum": 0,
    "hideHardwareSpecs": false,
    "memoryGiB": 384,
    "name": "ml.m5.24xlarge",
    "vcpuNum": 96
   },
   {
    "_defaultOrder": 12,
    "_isFastLaunch": false,
    "category": "General purpose",
    "gpuNum": 0,
    "hideHardwareSpecs": false,
    "memoryGiB": 8,
    "name": "ml.m5d.large",
    "vcpuNum": 2
   },
   {
    "_defaultOrder": 13,
    "_isFastLaunch": false,
    "category": "General purpose",
    "gpuNum": 0,
    "hideHardwareSpecs": false,
    "memoryGiB": 16,
    "name": "ml.m5d.xlarge",
    "vcpuNum": 4
   },
   {
    "_defaultOrder": 14,
    "_isFastLaunch": false,
    "category": "General purpose",
    "gpuNum": 0,
    "hideHardwareSpecs": false,
    "memoryGiB": 32,
    "name": "ml.m5d.2xlarge",
    "vcpuNum": 8
   },
   {
    "_defaultOrder": 15,
    "_isFastLaunch": false,
    "category": "General purpose",
    "gpuNum": 0,
    "hideHardwareSpecs": false,
    "memoryGiB": 64,
    "name": "ml.m5d.4xlarge",
    "vcpuNum": 16
   },
   {
    "_defaultOrder": 16,
    "_isFastLaunch": false,
    "category": "General purpose",
    "gpuNum": 0,
    "hideHardwareSpecs": false,
    "memoryGiB": 128,
    "name": "ml.m5d.8xlarge",
    "vcpuNum": 32
   },
   {
    "_defaultOrder": 17,
    "_isFastLaunch": false,
    "category": "General purpose",
    "gpuNum": 0,
    "hideHardwareSpecs": false,
    "memoryGiB": 192,
    "name": "ml.m5d.12xlarge",
    "vcpuNum": 48
   },
   {
    "_defaultOrder": 18,
    "_isFastLaunch": false,
    "category": "General purpose",
    "gpuNum": 0,
    "hideHardwareSpecs": false,
    "memoryGiB": 256,
    "name": "ml.m5d.16xlarge",
    "vcpuNum": 64
   },
   {
    "_defaultOrder": 19,
    "_isFastLaunch": false,
    "category": "General purpose",
    "gpuNum": 0,
    "hideHardwareSpecs": false,
    "memoryGiB": 384,
    "name": "ml.m5d.24xlarge",
    "vcpuNum": 96
   },
   {
    "_defaultOrder": 20,
    "_isFastLaunch": false,
    "category": "General purpose",
    "gpuNum": 0,
    "hideHardwareSpecs": true,
    "memoryGiB": 0,
    "name": "ml.geospatial.interactive",
    "supportedImageNames": [
     "sagemaker-geospatial-v1-0"
    ],
    "vcpuNum": 0
   },
   {
    "_defaultOrder": 21,
    "_isFastLaunch": true,
    "category": "Compute optimized",
    "gpuNum": 0,
    "hideHardwareSpecs": false,
    "memoryGiB": 4,
    "name": "ml.c5.large",
    "vcpuNum": 2
   },
   {
    "_defaultOrder": 22,
    "_isFastLaunch": false,
    "category": "Compute optimized",
    "gpuNum": 0,
    "hideHardwareSpecs": false,
    "memoryGiB": 8,
    "name": "ml.c5.xlarge",
    "vcpuNum": 4
   },
   {
    "_defaultOrder": 23,
    "_isFastLaunch": false,
    "category": "Compute optimized",
    "gpuNum": 0,
    "hideHardwareSpecs": false,
    "memoryGiB": 16,
    "name": "ml.c5.2xlarge",
    "vcpuNum": 8
   },
   {
    "_defaultOrder": 24,
    "_isFastLaunch": false,
    "category": "Compute optimized",
    "gpuNum": 0,
    "hideHardwareSpecs": false,
    "memoryGiB": 32,
    "name": "ml.c5.4xlarge",
    "vcpuNum": 16
   },
   {
    "_defaultOrder": 25,
    "_isFastLaunch": false,
    "category": "Compute optimized",
    "gpuNum": 0,
    "hideHardwareSpecs": false,
    "memoryGiB": 72,
    "name": "ml.c5.9xlarge",
    "vcpuNum": 36
   },
   {
    "_defaultOrder": 26,
    "_isFastLaunch": false,
    "category": "Compute optimized",
    "gpuNum": 0,
    "hideHardwareSpecs": false,
    "memoryGiB": 96,
    "name": "ml.c5.12xlarge",
    "vcpuNum": 48
   },
   {
    "_defaultOrder": 27,
    "_isFastLaunch": false,
    "category": "Compute optimized",
    "gpuNum": 0,
    "hideHardwareSpecs": false,
    "memoryGiB": 144,
    "name": "ml.c5.18xlarge",
    "vcpuNum": 72
   },
   {
    "_defaultOrder": 28,
    "_isFastLaunch": false,
    "category": "Compute optimized",
    "gpuNum": 0,
    "hideHardwareSpecs": false,
    "memoryGiB": 192,
    "name": "ml.c5.24xlarge",
    "vcpuNum": 96
   },
   {
    "_defaultOrder": 29,
    "_isFastLaunch": true,
    "category": "Accelerated computing",
    "gpuNum": 1,
    "hideHardwareSpecs": false,
    "memoryGiB": 16,
    "name": "ml.g4dn.xlarge",
    "vcpuNum": 4
   },
   {
    "_defaultOrder": 30,
    "_isFastLaunch": false,
    "category": "Accelerated computing",
    "gpuNum": 1,
    "hideHardwareSpecs": false,
    "memoryGiB": 32,
    "name": "ml.g4dn.2xlarge",
    "vcpuNum": 8
   },
   {
    "_defaultOrder": 31,
    "_isFastLaunch": false,
    "category": "Accelerated computing",
    "gpuNum": 1,
    "hideHardwareSpecs": false,
    "memoryGiB": 64,
    "name": "ml.g4dn.4xlarge",
    "vcpuNum": 16
   },
   {
    "_defaultOrder": 32,
    "_isFastLaunch": false,
    "category": "Accelerated computing",
    "gpuNum": 1,
    "hideHardwareSpecs": false,
    "memoryGiB": 128,
    "name": "ml.g4dn.8xlarge",
    "vcpuNum": 32
   },
   {
    "_defaultOrder": 33,
    "_isFastLaunch": false,
    "category": "Accelerated computing",
    "gpuNum": 4,
    "hideHardwareSpecs": false,
    "memoryGiB": 192,
    "name": "ml.g4dn.12xlarge",
    "vcpuNum": 48
   },
   {
    "_defaultOrder": 34,
    "_isFastLaunch": false,
    "category": "Accelerated computing",
    "gpuNum": 1,
    "hideHardwareSpecs": false,
    "memoryGiB": 256,
    "name": "ml.g4dn.16xlarge",
    "vcpuNum": 64
   },
   {
    "_defaultOrder": 35,
    "_isFastLaunch": false,
    "category": "Accelerated computing",
    "gpuNum": 1,
    "hideHardwareSpecs": false,
    "memoryGiB": 61,
    "name": "ml.p3.2xlarge",
    "vcpuNum": 8
   },
   {
    "_defaultOrder": 36,
    "_isFastLaunch": false,
    "category": "Accelerated computing",
    "gpuNum": 4,
    "hideHardwareSpecs": false,
    "memoryGiB": 244,
    "name": "ml.p3.8xlarge",
    "vcpuNum": 32
   },
   {
    "_defaultOrder": 37,
    "_isFastLaunch": false,
    "category": "Accelerated computing",
    "gpuNum": 8,
    "hideHardwareSpecs": false,
    "memoryGiB": 488,
    "name": "ml.p3.16xlarge",
    "vcpuNum": 64
   },
   {
    "_defaultOrder": 38,
    "_isFastLaunch": false,
    "category": "Accelerated computing",
    "gpuNum": 8,
    "hideHardwareSpecs": false,
    "memoryGiB": 768,
    "name": "ml.p3dn.24xlarge",
    "vcpuNum": 96
   },
   {
    "_defaultOrder": 39,
    "_isFastLaunch": false,
    "category": "Memory Optimized",
    "gpuNum": 0,
    "hideHardwareSpecs": false,
    "memoryGiB": 16,
    "name": "ml.r5.large",
    "vcpuNum": 2
   },
   {
    "_defaultOrder": 40,
    "_isFastLaunch": false,
    "category": "Memory Optimized",
    "gpuNum": 0,
    "hideHardwareSpecs": false,
    "memoryGiB": 32,
    "name": "ml.r5.xlarge",
    "vcpuNum": 4
   },
   {
    "_defaultOrder": 41,
    "_isFastLaunch": false,
    "category": "Memory Optimized",
    "gpuNum": 0,
    "hideHardwareSpecs": false,
    "memoryGiB": 64,
    "name": "ml.r5.2xlarge",
    "vcpuNum": 8
   },
   {
    "_defaultOrder": 42,
    "_isFastLaunch": false,
    "category": "Memory Optimized",
    "gpuNum": 0,
    "hideHardwareSpecs": false,
    "memoryGiB": 128,
    "name": "ml.r5.4xlarge",
    "vcpuNum": 16
   },
   {
    "_defaultOrder": 43,
    "_isFastLaunch": false,
    "category": "Memory Optimized",
    "gpuNum": 0,
    "hideHardwareSpecs": false,
    "memoryGiB": 256,
    "name": "ml.r5.8xlarge",
    "vcpuNum": 32
   },
   {
    "_defaultOrder": 44,
    "_isFastLaunch": false,
    "category": "Memory Optimized",
    "gpuNum": 0,
    "hideHardwareSpecs": false,
    "memoryGiB": 384,
    "name": "ml.r5.12xlarge",
    "vcpuNum": 48
   },
   {
    "_defaultOrder": 45,
    "_isFastLaunch": false,
    "category": "Memory Optimized",
    "gpuNum": 0,
    "hideHardwareSpecs": false,
    "memoryGiB": 512,
    "name": "ml.r5.16xlarge",
    "vcpuNum": 64
   },
   {
    "_defaultOrder": 46,
    "_isFastLaunch": false,
    "category": "Memory Optimized",
    "gpuNum": 0,
    "hideHardwareSpecs": false,
    "memoryGiB": 768,
    "name": "ml.r5.24xlarge",
    "vcpuNum": 96
   },
   {
    "_defaultOrder": 47,
    "_isFastLaunch": false,
    "category": "Accelerated computing",
    "gpuNum": 1,
    "hideHardwareSpecs": false,
    "memoryGiB": 16,
    "name": "ml.g5.xlarge",
    "vcpuNum": 4
   },
   {
    "_defaultOrder": 48,
    "_isFastLaunch": false,
    "category": "Accelerated computing",
    "gpuNum": 1,
    "hideHardwareSpecs": false,
    "memoryGiB": 32,
    "name": "ml.g5.2xlarge",
    "vcpuNum": 8
   },
   {
    "_defaultOrder": 49,
    "_isFastLaunch": false,
    "category": "Accelerated computing",
    "gpuNum": 1,
    "hideHardwareSpecs": false,
    "memoryGiB": 64,
    "name": "ml.g5.4xlarge",
    "vcpuNum": 16
   },
   {
    "_defaultOrder": 50,
    "_isFastLaunch": false,
    "category": "Accelerated computing",
    "gpuNum": 1,
    "hideHardwareSpecs": false,
    "memoryGiB": 128,
    "name": "ml.g5.8xlarge",
    "vcpuNum": 32
   },
   {
    "_defaultOrder": 51,
    "_isFastLaunch": false,
    "category": "Accelerated computing",
    "gpuNum": 1,
    "hideHardwareSpecs": false,
    "memoryGiB": 256,
    "name": "ml.g5.16xlarge",
    "vcpuNum": 64
   },
   {
    "_defaultOrder": 52,
    "_isFastLaunch": false,
    "category": "Accelerated computing",
    "gpuNum": 4,
    "hideHardwareSpecs": false,
    "memoryGiB": 192,
    "name": "ml.g5.12xlarge",
    "vcpuNum": 48
   },
   {
    "_defaultOrder": 53,
    "_isFastLaunch": false,
    "category": "Accelerated computing",
    "gpuNum": 4,
    "hideHardwareSpecs": false,
    "memoryGiB": 384,
    "name": "ml.g5.24xlarge",
    "vcpuNum": 96
   },
   {
    "_defaultOrder": 54,
    "_isFastLaunch": false,
    "category": "Accelerated computing",
    "gpuNum": 8,
    "hideHardwareSpecs": false,
    "memoryGiB": 768,
    "name": "ml.g5.48xlarge",
    "vcpuNum": 192
   },
   {
    "_defaultOrder": 55,
    "_isFastLaunch": false,
    "category": "Accelerated computing",
    "gpuNum": 8,
    "hideHardwareSpecs": false,
    "memoryGiB": 1152,
    "name": "ml.p4d.24xlarge",
    "vcpuNum": 96
   },
   {
    "_defaultOrder": 56,
    "_isFastLaunch": false,
    "category": "Accelerated computing",
    "gpuNum": 8,
    "hideHardwareSpecs": false,
    "memoryGiB": 1152,
    "name": "ml.p4de.24xlarge",
    "vcpuNum": 96
   }
  ],
  "instance_type": "ml.t3.medium",
  "kernelspec": {
   "display_name": "Python 3 (Data Science 3.0)",
   "language": "python",
   "name": "python3__SAGEMAKER_INTERNAL__arn:aws:sagemaker:us-east-1:081325390199:image/sagemaker-data-science-310-v1"
  },
  "language_info": {
   "codemirror_mode": {
    "name": "ipython",
    "version": 3
   },
   "file_extension": ".py",
   "mimetype": "text/x-python",
   "name": "python",
   "nbconvert_exporter": "python",
   "pygments_lexer": "ipython3",
   "version": "3.10.6"
  }
 },
 "nbformat": 4,
 "nbformat_minor": 4
}
